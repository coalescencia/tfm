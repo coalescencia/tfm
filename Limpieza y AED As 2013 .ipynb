{
 "cells": [
  {
   "cell_type": "code",
   "execution_count": 1,
   "metadata": {
    "collapsed": true
   },
   "outputs": [],
   "source": [
    "import pandas as pd\n",
    "import numpy as np"
   ]
  },
  {
   "cell_type": "code",
   "execution_count": 2,
   "metadata": {
    "collapsed": true
   },
   "outputs": [],
   "source": [
    "import matplotlib.pyplot as plt\n",
    "import seaborn as sns"
   ]
  },
  {
   "cell_type": "code",
   "execution_count": 3,
   "metadata": {
    "collapsed": true
   },
   "outputs": [],
   "source": [
    "%matplotlib inline"
   ]
  },
  {
   "cell_type": "code",
   "execution_count": 4,
   "metadata": {
    "collapsed": true
   },
   "outputs": [],
   "source": [
    "df = pd.read_csv('datos/2013/Diarios/As_2013_DD.csv', sep=\";\")"
   ]
  },
  {
   "cell_type": "code",
   "execution_count": 5,
   "metadata": {},
   "outputs": [
    {
     "data": {
      "text/html": [
       "<div>\n",
       "<style>\n",
       "    .dataframe thead tr:only-child th {\n",
       "        text-align: right;\n",
       "    }\n",
       "\n",
       "    .dataframe thead th {\n",
       "        text-align: left;\n",
       "    }\n",
       "\n",
       "    .dataframe tbody tr th {\n",
       "        vertical-align: top;\n",
       "    }\n",
       "</style>\n",
       "<table border=\"1\" class=\"dataframe\">\n",
       "  <thead>\n",
       "    <tr style=\"text-align: right;\">\n",
       "      <th></th>\n",
       "      <th>PROVINCIA</th>\n",
       "      <th>MUNICIPIO</th>\n",
       "      <th>ESTACION</th>\n",
       "      <th>MAGNITUD</th>\n",
       "      <th>PUNTO_MUESTREO</th>\n",
       "      <th>ANNO</th>\n",
       "      <th>MES</th>\n",
       "      <th>D01</th>\n",
       "      <th>D02</th>\n",
       "      <th>D03</th>\n",
       "      <th>...</th>\n",
       "      <th>D22</th>\n",
       "      <th>D23</th>\n",
       "      <th>D24</th>\n",
       "      <th>D25</th>\n",
       "      <th>D26</th>\n",
       "      <th>D27</th>\n",
       "      <th>D28</th>\n",
       "      <th>D29</th>\n",
       "      <th>D30</th>\n",
       "      <th>D31</th>\n",
       "    </tr>\n",
       "  </thead>\n",
       "  <tbody>\n",
       "    <tr>\n",
       "      <th>0</th>\n",
       "      <td>12</td>\n",
       "      <td>135</td>\n",
       "      <td>4</td>\n",
       "      <td>17</td>\n",
       "      <td>12135004_17_M</td>\n",
       "      <td>2013</td>\n",
       "      <td>4</td>\n",
       "      <td>NaN</td>\n",
       "      <td>NaN</td>\n",
       "      <td>NaN</td>\n",
       "      <td>...</td>\n",
       "      <td>0.35</td>\n",
       "      <td>NaN</td>\n",
       "      <td>NaN</td>\n",
       "      <td>NaN</td>\n",
       "      <td>NaN</td>\n",
       "      <td>NaN</td>\n",
       "      <td>NaN</td>\n",
       "      <td>NaN</td>\n",
       "      <td>NaN</td>\n",
       "      <td>NaN</td>\n",
       "    </tr>\n",
       "    <tr>\n",
       "      <th>1</th>\n",
       "      <td>12</td>\n",
       "      <td>135</td>\n",
       "      <td>4</td>\n",
       "      <td>17</td>\n",
       "      <td>12135004_17_M</td>\n",
       "      <td>2013</td>\n",
       "      <td>6</td>\n",
       "      <td>0.35</td>\n",
       "      <td>NaN</td>\n",
       "      <td>1.5</td>\n",
       "      <td>...</td>\n",
       "      <td>NaN</td>\n",
       "      <td>NaN</td>\n",
       "      <td>NaN</td>\n",
       "      <td>NaN</td>\n",
       "      <td>NaN</td>\n",
       "      <td>NaN</td>\n",
       "      <td>NaN</td>\n",
       "      <td>1.67</td>\n",
       "      <td>NaN</td>\n",
       "      <td>NaN</td>\n",
       "    </tr>\n",
       "    <tr>\n",
       "      <th>2</th>\n",
       "      <td>12</td>\n",
       "      <td>135</td>\n",
       "      <td>4</td>\n",
       "      <td>17</td>\n",
       "      <td>12135004_17_M</td>\n",
       "      <td>2013</td>\n",
       "      <td>7</td>\n",
       "      <td>1.39</td>\n",
       "      <td>NaN</td>\n",
       "      <td>NaN</td>\n",
       "      <td>...</td>\n",
       "      <td>NaN</td>\n",
       "      <td>NaN</td>\n",
       "      <td>NaN</td>\n",
       "      <td>NaN</td>\n",
       "      <td>NaN</td>\n",
       "      <td>NaN</td>\n",
       "      <td>NaN</td>\n",
       "      <td>0.69</td>\n",
       "      <td>NaN</td>\n",
       "      <td>NaN</td>\n",
       "    </tr>\n",
       "    <tr>\n",
       "      <th>3</th>\n",
       "      <td>12</td>\n",
       "      <td>135</td>\n",
       "      <td>4</td>\n",
       "      <td>17</td>\n",
       "      <td>12135004_17_M</td>\n",
       "      <td>2013</td>\n",
       "      <td>8</td>\n",
       "      <td>2.21</td>\n",
       "      <td>1.66</td>\n",
       "      <td>NaN</td>\n",
       "      <td>...</td>\n",
       "      <td>NaN</td>\n",
       "      <td>NaN</td>\n",
       "      <td>0.97</td>\n",
       "      <td>NaN</td>\n",
       "      <td>2.50</td>\n",
       "      <td>NaN</td>\n",
       "      <td>NaN</td>\n",
       "      <td>3.64</td>\n",
       "      <td>2.65</td>\n",
       "      <td>NaN</td>\n",
       "    </tr>\n",
       "    <tr>\n",
       "      <th>4</th>\n",
       "      <td>12</td>\n",
       "      <td>135</td>\n",
       "      <td>4</td>\n",
       "      <td>17</td>\n",
       "      <td>12135004_17_M</td>\n",
       "      <td>2013</td>\n",
       "      <td>9</td>\n",
       "      <td>1.26</td>\n",
       "      <td>1.12</td>\n",
       "      <td>NaN</td>\n",
       "      <td>...</td>\n",
       "      <td>NaN</td>\n",
       "      <td>1.67</td>\n",
       "      <td>NaN</td>\n",
       "      <td>NaN</td>\n",
       "      <td>1.11</td>\n",
       "      <td>1.66</td>\n",
       "      <td>NaN</td>\n",
       "      <td>0.55</td>\n",
       "      <td>1.51</td>\n",
       "      <td>NaN</td>\n",
       "    </tr>\n",
       "  </tbody>\n",
       "</table>\n",
       "<p>5 rows × 38 columns</p>\n",
       "</div>"
      ],
      "text/plain": [
       "   PROVINCIA  MUNICIPIO  ESTACION  MAGNITUD PUNTO_MUESTREO  ANNO  MES   D01  \\\n",
       "0         12        135         4        17  12135004_17_M  2013    4   NaN   \n",
       "1         12        135         4        17  12135004_17_M  2013    6  0.35   \n",
       "2         12        135         4        17  12135004_17_M  2013    7  1.39   \n",
       "3         12        135         4        17  12135004_17_M  2013    8  2.21   \n",
       "4         12        135         4        17  12135004_17_M  2013    9  1.26   \n",
       "\n",
       "    D02  D03 ...    D22   D23   D24  D25   D26   D27  D28   D29   D30  D31  \n",
       "0   NaN  NaN ...   0.35   NaN   NaN  NaN   NaN   NaN  NaN   NaN   NaN  NaN  \n",
       "1   NaN  1.5 ...    NaN   NaN   NaN  NaN   NaN   NaN  NaN  1.67   NaN  NaN  \n",
       "2   NaN  NaN ...    NaN   NaN   NaN  NaN   NaN   NaN  NaN  0.69   NaN  NaN  \n",
       "3  1.66  NaN ...    NaN   NaN  0.97  NaN  2.50   NaN  NaN  3.64  2.65  NaN  \n",
       "4  1.12  NaN ...    NaN  1.67   NaN  NaN  1.11  1.66  NaN  0.55  1.51  NaN  \n",
       "\n",
       "[5 rows x 38 columns]"
      ]
     },
     "execution_count": 5,
     "metadata": {},
     "output_type": "execute_result"
    }
   ],
   "source": [
    "df.head()"
   ]
  },
  {
   "cell_type": "code",
   "execution_count": 6,
   "metadata": {
    "collapsed": true
   },
   "outputs": [],
   "source": [
    "df_ordenado_por_meses= df.sort_values(by=['MES'])"
   ]
  },
  {
   "cell_type": "code",
   "execution_count": 11,
   "metadata": {
    "collapsed": true
   },
   "outputs": [],
   "source": [
    "lista_meses = df_ordenado_por_meses['MES'].unique()"
   ]
  },
  {
   "cell_type": "markdown",
   "metadata": {},
   "source": [
    "Contamos el número de estaciones que realizan datos por cada mes:"
   ]
  },
  {
   "cell_type": "code",
   "execution_count": 23,
   "metadata": {},
   "outputs": [
    {
     "name": "stdout",
     "output_type": "stream",
     "text": [
      "Mes 1 Total observatorios: 98\n",
      "Mes 2 Total observatorios: 99\n",
      "Mes 3 Total observatorios: 99\n",
      "Mes 4 Total observatorios: 98\n",
      "Mes 5 Total observatorios: 82\n",
      "Mes 6 Total observatorios: 104\n",
      "Mes 7 Total observatorios: 102\n",
      "Mes 8 Total observatorios: 101\n",
      "Mes 9 Total observatorios: 100\n",
      "Mes 10 Total observatorios: 100\n",
      "Mes 11 Total observatorios: 100\n",
      "Mes 12 Total observatorios: 96\n",
      "Total observaciones:  1179\n"
     ]
    }
   ],
   "source": [
    "suma = 0\n",
    "for x in lista_meses:\n",
    "    suma += len(df[df['MES']==x])\n",
    "    print('{}{}{}{}'.format('Mes ',x,' Total observatorios: ',len(df[df['MES']==x])))\n",
    "\n",
    "# comprobamos que coincide el número de registros con la suma de las repeticiones de los meses\n",
    "print(\"Total observaciones: \",suma)"
   ]
  },
  {
   "cell_type": "code",
   "execution_count": 24,
   "metadata": {
    "collapsed": true
   },
   "outputs": [],
   "source": [
    "lista_dias_del_meses = [31,28,31,30,31,30,31,31,30,31,30,31]"
   ]
  },
  {
   "cell_type": "markdown",
   "metadata": {},
   "source": [
    "Nos interesa únicamente las mediciones diarias por meses de todas las estaciones, para poder sacar el valor mensual del contaminante:"
   ]
  },
  {
   "cell_type": "code",
   "execution_count": 25,
   "metadata": {
    "collapsed": true
   },
   "outputs": [],
   "source": [
    "df_datos_diarios_por_mes = df_ordenado_por_meses.iloc[:,6:]"
   ]
  },
  {
   "cell_type": "code",
   "execution_count": 27,
   "metadata": {
    "collapsed": true
   },
   "outputs": [],
   "source": [
    "mes1 = df_datos_diarios_por_mes[df_datos_diarios_por_mes['MES']==1].iloc[:,1:]"
   ]
  },
  {
   "cell_type": "markdown",
   "metadata": {},
   "source": [
    "Estudiando el dataset proporcionado, observamos que cada estación medidora proporciona una cantidad distinta de datos\n",
    "por mes. Según los datos del Ministerio esto puede ser debido a causas técnicas. Por ello es necesario tratar las \n",
    "observaciones de la siguiente manera:\n",
    "\n",
    "- Obtención de la media mensual por cada estación\n",
    "- Media del conjunto total de estaciones por meses, ya que hemos visto que no existe un número igual por cada mes \n",
    "\n",
    "Al tener los valores NaN en el dataset la función .mean no los tendrá en cuenta y obtendrá la media con los datos \n",
    "reales por día"
   ]
  },
  {
   "cell_type": "code",
   "execution_count": 45,
   "metadata": {},
   "outputs": [],
   "source": [
    "medias_por_dia_mes = df_datos_diarios_por_mes[df_datos_diarios_por_mes['MES']==1].iloc[:,1:].mean()"
   ]
  },
  {
   "cell_type": "code",
   "execution_count": 46,
   "metadata": {
    "scrolled": true
   },
   "outputs": [
    {
     "data": {
      "text/plain": [
       "D01    0.767500\n",
       "D02    1.082143\n",
       "D03    0.871212\n",
       "D04    0.587586\n",
       "D05    0.449615\n",
       "D06    0.776667\n",
       "D07    1.131875\n",
       "D08    0.674063\n",
       "D09    0.810952\n",
       "D10    0.663226\n",
       "D11    0.911364\n",
       "D12    0.679189\n",
       "D13    0.483052\n",
       "D14    0.459750\n",
       "D15    0.556957\n",
       "D16    0.494362\n",
       "D17    0.651667\n",
       "D18    0.721575\n",
       "D19    0.567964\n",
       "D20    0.416970\n",
       "D21    0.538000\n",
       "D22    0.482056\n",
       "D23    0.501667\n",
       "D24    0.650000\n",
       "D25    0.658612\n",
       "D26    0.743529\n",
       "D27    0.627879\n",
       "D28    0.739976\n",
       "D29    1.029167\n",
       "D30    0.803171\n",
       "D31    1.012270\n",
       "dtype: float64"
      ]
     },
     "execution_count": 46,
     "metadata": {},
     "output_type": "execute_result"
    }
   ],
   "source": [
    "medias_por_dia_mes"
   ]
  },
  {
   "cell_type": "code",
   "execution_count": 43,
   "metadata": {
    "collapsed": true
   },
   "outputs": [],
   "source": [
    "# =========  INICIO PRUEBAS COMPROBACIONES ALEATORIAS  ================\n",
    "# ====================================================================="
   ]
  },
  {
   "cell_type": "code",
   "execution_count": 34,
   "metadata": {},
   "outputs": [],
   "source": [
    "# Prueba de que los datos son correctos\n",
    "\n",
    "df_mes1 = pd.read_csv('datos/2013/Diarios/mes1.csv', sep=\";\", header=None)"
   ]
  },
  {
   "cell_type": "code",
   "execution_count": 35,
   "metadata": {},
   "outputs": [
    {
     "data": {
      "text/plain": [
       "0    0.7675\n",
       "dtype: float64"
      ]
     },
     "execution_count": 35,
     "metadata": {},
     "output_type": "execute_result"
    }
   ],
   "source": [
    "df_mes1.mean()"
   ]
  },
  {
   "cell_type": "code",
   "execution_count": 37,
   "metadata": {},
   "outputs": [
    {
     "data": {
      "text/plain": [
       "0    9.21\n",
       "dtype: float64"
      ]
     },
     "execution_count": 37,
     "metadata": {},
     "output_type": "execute_result"
    }
   ],
   "source": [
    "df_mes1.sum()"
   ]
  },
  {
   "cell_type": "code",
   "execution_count": 38,
   "metadata": {},
   "outputs": [
    {
     "data": {
      "text/plain": [
       "0.7675000000000001"
      ]
     },
     "execution_count": 38,
     "metadata": {},
     "output_type": "execute_result"
    }
   ],
   "source": [
    "9.21/12"
   ]
  },
  {
   "cell_type": "code",
   "execution_count": 39,
   "metadata": {
    "collapsed": true
   },
   "outputs": [],
   "source": [
    "\n",
    "df_dia14 = pd.read_csv('datos/2013/Diarios/mes1_dia14.csv', sep=\";\")"
   ]
  },
  {
   "cell_type": "code",
   "execution_count": 41,
   "metadata": {},
   "outputs": [
    {
     "data": {
      "text/plain": [
       "D14    18.39\n",
       "dtype: float64"
      ]
     },
     "execution_count": 41,
     "metadata": {},
     "output_type": "execute_result"
    }
   ],
   "source": [
    "df_dia14.sum()"
   ]
  },
  {
   "cell_type": "code",
   "execution_count": 42,
   "metadata": {},
   "outputs": [
    {
     "data": {
      "text/plain": [
       "0.45975"
      ]
     },
     "execution_count": 42,
     "metadata": {},
     "output_type": "execute_result"
    }
   ],
   "source": [
    "18.39/40"
   ]
  },
  {
   "cell_type": "code",
   "execution_count": 44,
   "metadata": {
    "collapsed": true
   },
   "outputs": [],
   "source": [
    "#  ============= FIN COMPROBACIONES ============================"
   ]
  },
  {
   "cell_type": "code",
   "execution_count": 47,
   "metadata": {
    "collapsed": true
   },
   "outputs": [],
   "source": [
    "media_mes_1 = medias_por_dia_mes.mean()"
   ]
  },
  {
   "cell_type": "code",
   "execution_count": 49,
   "metadata": {},
   "outputs": [
    {
     "data": {
      "text/plain": [
       "0.6949681962260175"
      ]
     },
     "execution_count": 49,
     "metadata": {},
     "output_type": "execute_result"
    }
   ],
   "source": [
    "media_mes_1"
   ]
  },
  {
   "cell_type": "code",
   "execution_count": 50,
   "metadata": {},
   "outputs": [
    {
     "data": {
      "text/plain": [
       "31"
      ]
     },
     "execution_count": 50,
     "metadata": {},
     "output_type": "execute_result"
    }
   ],
   "source": [
    "len(medias_por_dia_mes)"
   ]
  },
  {
   "cell_type": "code",
   "execution_count": 52,
   "metadata": {},
   "outputs": [
    {
     "data": {
      "text/plain": [
       "0.6949681962260175"
      ]
     },
     "execution_count": 52,
     "metadata": {},
     "output_type": "execute_result"
    }
   ],
   "source": [
    "medias_por_dia_mes.sum()/31"
   ]
  },
  {
   "cell_type": "markdown",
   "metadata": {},
   "source": [
    "<h3>Automatizar el proceso para cada mes: </h3>"
   ]
  },
  {
   "cell_type": "code",
   "execution_count": 62,
   "metadata": {
    "collapsed": true
   },
   "outputs": [],
   "source": [
    "datos = [1,3,56,54]"
   ]
  },
  {
   "cell_type": "code",
   "execution_count": 65,
   "metadata": {
    "collapsed": true
   },
   "outputs": [],
   "source": [
    "datos.append(456)"
   ]
  },
  {
   "cell_type": "code",
   "execution_count": 66,
   "metadata": {
    "collapsed": true
   },
   "outputs": [],
   "source": [
    "s = pd.Series(datos)"
   ]
  },
  {
   "cell_type": "code",
   "execution_count": 67,
   "metadata": {},
   "outputs": [
    {
     "data": {
      "text/plain": [
       "0      1\n",
       "1      3\n",
       "2     56\n",
       "3     54\n",
       "4    456\n",
       "dtype: int64"
      ]
     },
     "execution_count": 67,
     "metadata": {},
     "output_type": "execute_result"
    }
   ],
   "source": [
    "s"
   ]
  },
  {
   "cell_type": "code",
   "execution_count": 70,
   "metadata": {
    "collapsed": true
   },
   "outputs": [],
   "source": [
    "totales = []\n",
    "\n",
    "for x in lista_meses:\n",
    "    medias_por_dia_mes = df_datos_diarios_por_mes[df_datos_diarios_por_mes['MES']== x ].iloc[:,1:].mean()\n",
    "    media_por_mes = medias_por_dia_mes.mean()   \n",
    "    totales.append(media_por_mes)\n",
    "\n"
   ]
  },
  {
   "cell_type": "code",
   "execution_count": 71,
   "metadata": {},
   "outputs": [
    {
     "data": {
      "text/plain": [
       "[0.6949681962260175,\n",
       " 0.7219603053536116,\n",
       " 0.8070277027376372,\n",
       " 0.8073794400578513,\n",
       " 0.9125689815092793,\n",
       " 0.6767599567327721,\n",
       " 0.762031013961715,\n",
       " 0.6661569083842653,\n",
       " 0.7312035161840096,\n",
       " 0.6584191182266532,\n",
       " 0.6517168821211371,\n",
       " 0.7943624607446779]"
      ]
     },
     "execution_count": 71,
     "metadata": {},
     "output_type": "execute_result"
    }
   ],
   "source": [
    "totales"
   ]
  },
  {
   "cell_type": "code",
   "execution_count": null,
   "metadata": {
    "collapsed": true
   },
   "outputs": [],
   "source": []
  }
 ],
 "metadata": {
  "kernelspec": {
   "display_name": "Python 3",
   "language": "python",
   "name": "python3"
  },
  "language_info": {
   "codemirror_mode": {
    "name": "ipython",
    "version": 3
   },
   "file_extension": ".py",
   "mimetype": "text/x-python",
   "name": "python",
   "nbconvert_exporter": "python",
   "pygments_lexer": "ipython3",
   "version": "3.6.2"
  }
 },
 "nbformat": 4,
 "nbformat_minor": 2
}
