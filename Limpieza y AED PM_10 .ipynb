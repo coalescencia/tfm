{
 "cells": [
  {
   "cell_type": "code",
   "execution_count": 2,
   "metadata": {
    "collapsed": true
   },
   "outputs": [],
   "source": [
    "import pandas as pd\n",
    "import numpy as np"
   ]
  },
  {
   "cell_type": "code",
   "execution_count": 3,
   "metadata": {
    "collapsed": true
   },
   "outputs": [],
   "source": [
    "import matplotlib.pyplot as plt\n",
    "import seaborn as sns"
   ]
  },
  {
   "cell_type": "code",
   "execution_count": 4,
   "metadata": {
    "collapsed": true
   },
   "outputs": [],
   "source": [
    "%matplotlib inline"
   ]
  },
  {
   "cell_type": "code",
   "execution_count": 5,
   "metadata": {},
   "outputs": [],
   "source": [
    "df = pd.read_excel('datos/PM_10/PM10_DD_2001.xlsx', sep=\";\")"
   ]
  },
  {
   "cell_type": "code",
   "execution_count": 6,
   "metadata": {},
   "outputs": [
    {
     "data": {
      "text/html": [
       "<div>\n",
       "<style>\n",
       "    .dataframe thead tr:only-child th {\n",
       "        text-align: right;\n",
       "    }\n",
       "\n",
       "    .dataframe thead th {\n",
       "        text-align: left;\n",
       "    }\n",
       "\n",
       "    .dataframe tbody tr th {\n",
       "        vertical-align: top;\n",
       "    }\n",
       "</style>\n",
       "<table border=\"1\" class=\"dataframe\">\n",
       "  <thead>\n",
       "    <tr style=\"text-align: right;\">\n",
       "      <th></th>\n",
       "      <th>PROVINCIA</th>\n",
       "      <th>MUNICIPIO</th>\n",
       "      <th>ESTACION</th>\n",
       "      <th>MAGNITUD</th>\n",
       "      <th>PUNTO_MUESTREO</th>\n",
       "      <th>ANNO</th>\n",
       "      <th>MES</th>\n",
       "      <th>D01</th>\n",
       "      <th>D02</th>\n",
       "      <th>D03</th>\n",
       "      <th>...</th>\n",
       "      <th>D22</th>\n",
       "      <th>D23</th>\n",
       "      <th>D24</th>\n",
       "      <th>D25</th>\n",
       "      <th>D26</th>\n",
       "      <th>D27</th>\n",
       "      <th>D28</th>\n",
       "      <th>D29</th>\n",
       "      <th>D30</th>\n",
       "      <th>D31</th>\n",
       "    </tr>\n",
       "  </thead>\n",
       "  <tbody>\n",
       "    <tr>\n",
       "      <th>0</th>\n",
       "      <td>8</td>\n",
       "      <td>196</td>\n",
       "      <td>1</td>\n",
       "      <td>10</td>\n",
       "      <td>08196001_10_M</td>\n",
       "      <td>2001</td>\n",
       "      <td>5</td>\n",
       "      <td>NaN</td>\n",
       "      <td>55.0</td>\n",
       "      <td>65.0</td>\n",
       "      <td>...</td>\n",
       "      <td>NaN</td>\n",
       "      <td>58.0</td>\n",
       "      <td>54.0</td>\n",
       "      <td>NaN</td>\n",
       "      <td>NaN</td>\n",
       "      <td>NaN</td>\n",
       "      <td>65.0</td>\n",
       "      <td>NaN</td>\n",
       "      <td>74.0</td>\n",
       "      <td>100.0</td>\n",
       "    </tr>\n",
       "    <tr>\n",
       "      <th>1</th>\n",
       "      <td>8</td>\n",
       "      <td>196</td>\n",
       "      <td>1</td>\n",
       "      <td>10</td>\n",
       "      <td>08196001_10_M</td>\n",
       "      <td>2001</td>\n",
       "      <td>4</td>\n",
       "      <td>NaN</td>\n",
       "      <td>103.0</td>\n",
       "      <td>NaN</td>\n",
       "      <td>...</td>\n",
       "      <td>NaN</td>\n",
       "      <td>99.0</td>\n",
       "      <td>NaN</td>\n",
       "      <td>68.0</td>\n",
       "      <td>71.0</td>\n",
       "      <td>NaN</td>\n",
       "      <td>NaN</td>\n",
       "      <td>NaN</td>\n",
       "      <td>NaN</td>\n",
       "      <td>NaN</td>\n",
       "    </tr>\n",
       "    <tr>\n",
       "      <th>2</th>\n",
       "      <td>8</td>\n",
       "      <td>196</td>\n",
       "      <td>1</td>\n",
       "      <td>10</td>\n",
       "      <td>08196001_10_M</td>\n",
       "      <td>2001</td>\n",
       "      <td>3</td>\n",
       "      <td>NaN</td>\n",
       "      <td>69.0</td>\n",
       "      <td>NaN</td>\n",
       "      <td>...</td>\n",
       "      <td>128.0</td>\n",
       "      <td>NaN</td>\n",
       "      <td>NaN</td>\n",
       "      <td>NaN</td>\n",
       "      <td>79.0</td>\n",
       "      <td>NaN</td>\n",
       "      <td>78.0</td>\n",
       "      <td>107.0</td>\n",
       "      <td>NaN</td>\n",
       "      <td>NaN</td>\n",
       "    </tr>\n",
       "    <tr>\n",
       "      <th>3</th>\n",
       "      <td>8</td>\n",
       "      <td>196</td>\n",
       "      <td>1</td>\n",
       "      <td>10</td>\n",
       "      <td>08196001_10_M</td>\n",
       "      <td>2001</td>\n",
       "      <td>2</td>\n",
       "      <td>NaN</td>\n",
       "      <td>63.0</td>\n",
       "      <td>NaN</td>\n",
       "      <td>...</td>\n",
       "      <td>107.0</td>\n",
       "      <td>NaN</td>\n",
       "      <td>NaN</td>\n",
       "      <td>NaN</td>\n",
       "      <td>NaN</td>\n",
       "      <td>67.0</td>\n",
       "      <td>63.0</td>\n",
       "      <td>NaN</td>\n",
       "      <td>NaN</td>\n",
       "      <td>NaN</td>\n",
       "    </tr>\n",
       "    <tr>\n",
       "      <th>4</th>\n",
       "      <td>8</td>\n",
       "      <td>196</td>\n",
       "      <td>1</td>\n",
       "      <td>10</td>\n",
       "      <td>08196001_10_M</td>\n",
       "      <td>2001</td>\n",
       "      <td>1</td>\n",
       "      <td>NaN</td>\n",
       "      <td>29.0</td>\n",
       "      <td>46.0</td>\n",
       "      <td>...</td>\n",
       "      <td>NaN</td>\n",
       "      <td>103.0</td>\n",
       "      <td>78.0</td>\n",
       "      <td>75.0</td>\n",
       "      <td>NaN</td>\n",
       "      <td>NaN</td>\n",
       "      <td>NaN</td>\n",
       "      <td>NaN</td>\n",
       "      <td>49.0</td>\n",
       "      <td>67.0</td>\n",
       "    </tr>\n",
       "  </tbody>\n",
       "</table>\n",
       "<p>5 rows × 38 columns</p>\n",
       "</div>"
      ],
      "text/plain": [
       "   PROVINCIA  MUNICIPIO  ESTACION  MAGNITUD PUNTO_MUESTREO  ANNO  MES  D01  \\\n",
       "0          8        196         1        10  08196001_10_M  2001    5  NaN   \n",
       "1          8        196         1        10  08196001_10_M  2001    4  NaN   \n",
       "2          8        196         1        10  08196001_10_M  2001    3  NaN   \n",
       "3          8        196         1        10  08196001_10_M  2001    2  NaN   \n",
       "4          8        196         1        10  08196001_10_M  2001    1  NaN   \n",
       "\n",
       "     D02   D03  ...      D22    D23   D24   D25   D26   D27   D28    D29  \\\n",
       "0   55.0  65.0  ...      NaN   58.0  54.0   NaN   NaN   NaN  65.0    NaN   \n",
       "1  103.0   NaN  ...      NaN   99.0   NaN  68.0  71.0   NaN   NaN    NaN   \n",
       "2   69.0   NaN  ...    128.0    NaN   NaN   NaN  79.0   NaN  78.0  107.0   \n",
       "3   63.0   NaN  ...    107.0    NaN   NaN   NaN   NaN  67.0  63.0    NaN   \n",
       "4   29.0  46.0  ...      NaN  103.0  78.0  75.0   NaN   NaN   NaN    NaN   \n",
       "\n",
       "    D30    D31  \n",
       "0  74.0  100.0  \n",
       "1   NaN    NaN  \n",
       "2   NaN    NaN  \n",
       "3   NaN    NaN  \n",
       "4  49.0   67.0  \n",
       "\n",
       "[5 rows x 38 columns]"
      ]
     },
     "execution_count": 6,
     "metadata": {},
     "output_type": "execute_result"
    }
   ],
   "source": [
    "df.head()"
   ]
  },
  {
   "cell_type": "code",
   "execution_count": 7,
   "metadata": {
    "collapsed": true
   },
   "outputs": [],
   "source": [
    "df_ordenado_por_meses= df.sort_values(by=['MES'])"
   ]
  },
  {
   "cell_type": "code",
   "execution_count": 9,
   "metadata": {
    "collapsed": true
   },
   "outputs": [],
   "source": [
    "lista_meses = df_ordenado_por_meses['MES'].unique()"
   ]
  },
  {
   "cell_type": "markdown",
   "metadata": {},
   "source": [
    "Contamos el número de estaciones que realizan datos por cada mes:"
   ]
  },
  {
   "cell_type": "code",
   "execution_count": 10,
   "metadata": {},
   "outputs": [
    {
     "name": "stdout",
     "output_type": "stream",
     "text": [
      "Mes 1 Total observatorios: 31\n",
      "Mes 2 Total observatorios: 31\n",
      "Mes 3 Total observatorios: 40\n",
      "Mes 4 Total observatorios: 40\n",
      "Mes 5 Total observatorios: 40\n",
      "Mes 6 Total observatorios: 39\n",
      "Mes 7 Total observatorios: 40\n",
      "Mes 8 Total observatorios: 40\n",
      "Mes 9 Total observatorios: 40\n",
      "Mes 10 Total observatorios: 41\n",
      "Mes 11 Total observatorios: 40\n",
      "Mes 12 Total observatorios: 40\n",
      "Total observaciones:  462\n"
     ]
    }
   ],
   "source": [
    "suma = 0\n",
    "for x in lista_meses:\n",
    "    suma += len(df[df['MES']==x])\n",
    "    print('{}{}{}{}'.format('Mes ',x,' Total observatorios: ',len(df[df['MES']==x])))\n",
    "\n",
    "# comprobamos que coincide el número de registros con la suma de las repeticiones de los meses\n",
    "print(\"Total observaciones: \",suma)"
   ]
  },
  {
   "cell_type": "code",
   "execution_count": 11,
   "metadata": {
    "collapsed": true
   },
   "outputs": [],
   "source": [
    "lista_dias_del_meses = [31,28,31,30,31,30,31,31,30,31,30,31]"
   ]
  },
  {
   "cell_type": "markdown",
   "metadata": {},
   "source": [
    "Nos interesa únicamente las mediciones diarias por meses de todas las estaciones, para poder sacar el valor mensual del contaminante:"
   ]
  },
  {
   "cell_type": "code",
   "execution_count": 12,
   "metadata": {
    "collapsed": true
   },
   "outputs": [],
   "source": [
    "df_datos_diarios_por_mes = df_ordenado_por_meses.iloc[:,6:]"
   ]
  },
  {
   "cell_type": "code",
   "execution_count": 14,
   "metadata": {
    "collapsed": true
   },
   "outputs": [],
   "source": [
    "mes1 = df_datos_diarios_por_mes[df_datos_diarios_por_mes['MES']==1].iloc[:,1:]"
   ]
  },
  {
   "cell_type": "markdown",
   "metadata": {},
   "source": [
    "Estudiando el dataset proporcionado, observamos que cada estación medidora proporciona una cantidad distinta de datos\n",
    "por mes. Según los datos del Ministerio esto puede ser debido a causas técnicas. Por ello es necesario tratar las \n",
    "observaciones de la siguiente manera:\n",
    "\n",
    "- Obtención de la media mensual por cada estación\n",
    "- Media del conjunto total de estaciones por meses, ya que hemos visto que no existe un número igual por cada mes \n",
    "\n",
    "Al tener los valores NaN en el dataset la función .mean no los tendrá en cuenta y obtendrá la media con los datos \n",
    "reales por día"
   ]
  },
  {
   "cell_type": "code",
   "execution_count": 18,
   "metadata": {
    "collapsed": true
   },
   "outputs": [],
   "source": [
    "medias_por_dia_mes = df_datos_diarios_por_mes[df_datos_diarios_por_mes['MES']==1].iloc[:,1:].mean()"
   ]
  },
  {
   "cell_type": "code",
   "execution_count": 19,
   "metadata": {
    "scrolled": true
   },
   "outputs": [
    {
     "data": {
      "text/plain": [
       "D01    56.500000\n",
       "D02    24.708333\n",
       "D03    35.176471\n",
       "D04    44.454545\n",
       "D05    47.687500\n",
       "D06    35.666667\n",
       "D07    29.000000\n",
       "D08    39.833333\n",
       "D09    69.700000\n",
       "D10    72.500000\n",
       "D11    65.434783\n",
       "D12    54.000000\n",
       "D13    51.000000\n",
       "D14    60.500000\n",
       "D15    28.809524\n",
       "D16    58.100000\n",
       "D17    66.117647\n",
       "D18    66.100000\n",
       "D19    46.923077\n",
       "D20    48.500000\n",
       "D21    65.000000\n",
       "D22    58.826087\n",
       "D23    52.947368\n",
       "D24    44.117647\n",
       "D25    33.526316\n",
       "D26    26.533333\n",
       "D27    37.250000\n",
       "D28    30.666667\n",
       "D29    30.904762\n",
       "D30    34.684211\n",
       "D31    50.933333\n",
       "dtype: float64"
      ]
     },
     "execution_count": 19,
     "metadata": {},
     "output_type": "execute_result"
    }
   ],
   "source": [
    "medias_por_dia_mes"
   ]
  },
  {
   "cell_type": "code",
   "execution_count": 20,
   "metadata": {
    "collapsed": true
   },
   "outputs": [],
   "source": [
    "media_mes_1 = medias_por_dia_mes.mean()"
   ]
  },
  {
   "cell_type": "code",
   "execution_count": 21,
   "metadata": {},
   "outputs": [
    {
     "data": {
      "text/plain": [
       "47.293600121500546"
      ]
     },
     "execution_count": 21,
     "metadata": {},
     "output_type": "execute_result"
    }
   ],
   "source": [
    "media_mes_1"
   ]
  },
  {
   "cell_type": "code",
   "execution_count": 22,
   "metadata": {},
   "outputs": [
    {
     "data": {
      "text/plain": [
       "31"
      ]
     },
     "execution_count": 22,
     "metadata": {},
     "output_type": "execute_result"
    }
   ],
   "source": [
    "len(medias_por_dia_mes)"
   ]
  },
  {
   "cell_type": "code",
   "execution_count": 23,
   "metadata": {},
   "outputs": [
    {
     "data": {
      "text/plain": [
       "47.293600121500546"
      ]
     },
     "execution_count": 23,
     "metadata": {},
     "output_type": "execute_result"
    }
   ],
   "source": [
    "medias_por_dia_mes.sum()/31"
   ]
  },
  {
   "cell_type": "markdown",
   "metadata": {},
   "source": [
    "<h3>Automatizar el proceso para cada mes: </h3>"
   ]
  },
  {
   "cell_type": "code",
   "execution_count": 24,
   "metadata": {
    "collapsed": true
   },
   "outputs": [],
   "source": [
    "totales = []\n",
    "\n",
    "for x in lista_meses:\n",
    "    medias_por_dia_mes = df_datos_diarios_por_mes[df_datos_diarios_por_mes['MES']== x ].iloc[:,1:].mean()\n",
    "    media_por_mes = medias_por_dia_mes.mean()   \n",
    "    totales.append(media_por_mes)\n",
    "\n"
   ]
  },
  {
   "cell_type": "code",
   "execution_count": 25,
   "metadata": {},
   "outputs": [
    {
     "data": {
      "text/plain": [
       "[47.293600121500546,\n",
       " 55.12832770668076,\n",
       " 32.60609223349655,\n",
       " 28.833526303889805,\n",
       " 31.295070023254656,\n",
       " 32.78615552600111,\n",
       " 30.895708835414467,\n",
       " 31.05572652451532,\n",
       " 29.5031078633107,\n",
       " 31.72375908131748,\n",
       " 28.172920269021255,\n",
       " 30.501190599587055]"
      ]
     },
     "execution_count": 25,
     "metadata": {},
     "output_type": "execute_result"
    }
   ],
   "source": [
    "totales"
   ]
  },
  {
   "cell_type": "code",
   "execution_count": 26,
   "metadata": {
    "collapsed": true
   },
   "outputs": [],
   "source": [
    "serie = pd.Series(totales)"
   ]
  },
  {
   "cell_type": "code",
   "execution_count": 27,
   "metadata": {},
   "outputs": [
    {
     "data": {
      "text/plain": [
       "0     47.293600\n",
       "1     55.128328\n",
       "2     32.606092\n",
       "3     28.833526\n",
       "4     31.295070\n",
       "5     32.786156\n",
       "6     30.895709\n",
       "7     31.055727\n",
       "8     29.503108\n",
       "9     31.723759\n",
       "10    28.172920\n",
       "11    30.501191\n",
       "dtype: float64"
      ]
     },
     "execution_count": 27,
     "metadata": {},
     "output_type": "execute_result"
    }
   ],
   "source": [
    "serie"
   ]
  },
  {
   "cell_type": "code",
   "execution_count": null,
   "metadata": {
    "collapsed": true
   },
   "outputs": [],
   "source": []
  }
 ],
 "metadata": {
  "kernelspec": {
   "display_name": "Python 3",
   "language": "python",
   "name": "python3"
  },
  "language_info": {
   "codemirror_mode": {
    "name": "ipython",
    "version": 3
   },
   "file_extension": ".py",
   "mimetype": "text/x-python",
   "name": "python",
   "nbconvert_exporter": "python",
   "pygments_lexer": "ipython3",
   "version": "3.6.2"
  }
 },
 "nbformat": 4,
 "nbformat_minor": 2
}
